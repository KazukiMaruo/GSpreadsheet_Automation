{
  "nbformat": 4,
  "nbformat_minor": 0,
  "metadata": {
    "colab": {
      "provenance": []
    },
    "kernelspec": {
      "name": "python3",
      "display_name": "Python 3"
    },
    "language_info": {
      "name": "python"
    }
  },
  "cells": [
    {
      "cell_type": "code",
      "execution_count": null,
      "metadata": {
        "id": "Bt8NUGWNi_x0"
      },
      "outputs": [],
      "source": [
        "import random\n",
        "import pandas as pd"
      ]
    },
    {
      "cell_type": "code",
      "source": [
        "from google.colab import drive\n",
        "drive.mount('/content/drive')"
      ],
      "metadata": {
        "id": "nCsSRBOpjYKt"
      },
      "execution_count": null,
      "outputs": []
    },
    {
      "cell_type": "code",
      "source": [
        "import gspread\n",
        "from oauth2client.service_account import ServiceAccountCredentials\n",
        "\n",
        "scope = ['https://spreadsheets.google.com/feeds','https://www.googleapis.com/auth/drive']\n",
        "\n",
        "#ダウンロードしたjsonファイルをドライブにアップデートした際のパス\n",
        "json = '/content/drive/MyDrive/english-voca-378420-8764ce1e54f9.json'\n",
        "credentials = ServiceAccountCredentials.from_json_keyfile_name(json, scope)\n",
        "gc = gspread.authorize(credentials)\n",
        "\n",
        "#書き込み先のスプレッドシートキーを追加\n",
        "SPREADSHEET_KEY = '1RgmtZbTZDbfsx9bQ-eGrGZ1POXknsREP8krgbZ5GPd8'\n"
      ],
      "metadata": {
        "id": "9MwUfq-yqJpB"
      },
      "execution_count": null,
      "outputs": []
    },
    {
      "cell_type": "code",
      "source": [
        "#creating new sheet\n",
        "workbook = gc.open_by_key(SPREADSHEET_KEY)\n",
        "from gspread_dataframe import set_with_dataframe\n",
        "\n",
        "#The title and the number of row and columns\n",
        "#workbook.add_worksheet(title='voca4', rows=50, cols=30)\n",
        "\n",
        "#setting worksheet\n",
        "worksheet = workbook.worksheet('voca4')"
      ],
      "metadata": {
        "id": "gFC6dYD46jia"
      },
      "execution_count": null,
      "outputs": []
    },
    {
      "cell_type": "code",
      "source": [
        "#Skipped Alphabet to create blank columns\n",
        "import string\n",
        "\n",
        "s = string.ascii_uppercase\n",
        "snew=[]\n",
        "\n",
        "for i in range(0,len(s),2):\n",
        "  snew.append(s[i])\n",
        "\n",
        "print(snew)\n",
        "\n",
        "s = [[1],[2],[3]]"
      ],
      "metadata": {
        "id": "8PnbuRtoDC0Q"
      },
      "execution_count": null,
      "outputs": []
    },
    {
      "cell_type": "code",
      "source": [
        "#generate random numbers with skipped alphabet to create blank\n",
        "\n",
        "for c in snew:\n",
        "  randomlist = []\n",
        "  #Generate 10 random numbers between 1 and 2861 in the row(2)\n",
        "  randomlist = random.sample(range(1, 2862), 10)\n",
        "  worksheet.update(f'{c}2',[[x] for x in randomlist])\n",
        "\n",
        "for c in snew:\n",
        "  randomlist = []\n",
        "  #Generate 10 random numbers between 1 and 2861 in the row(14)\n",
        "  randomlist = random.sample(range(1, 2862), 10)\n",
        "  worksheet.update(f'{c}14',[[x] for x in randomlist])\n",
        "\n",
        "for c in snew:\n",
        "  randomlist = []\n",
        "  #Generate 10 random numbers between 1 and 2861 in the row(26)\n",
        "  randomlist = random.sample(range(1, 2862), 10)\n",
        "  worksheet.update(f'{c}26',[[x] for x in randomlist])"
      ],
      "metadata": {
        "id": "C9GQXsnaCfUb"
      },
      "execution_count": null,
      "outputs": []
    },
    {
      "cell_type": "code",
      "source": [
        "#generate random numbers with normal alphabet\n",
        "\n",
        "for c in s:\n",
        "  randomlist = []\n",
        "  #Generate 10 random numbers between 1 and 2861 in the row(2)\n",
        "  randomlist = random.sample(range(1, 2862), 10)\n",
        "  worksheet.update(f'{c}2',[[x] for x in randomlist])\n",
        "\n",
        "for c in s:\n",
        "  randomlist = []\n",
        "  #Generate 10 random numbers between 1 and 2861 in the row(14)\n",
        "  randomlist = random.sample(range(1, 2862), 10)\n",
        "  worksheet.update(f'{c}14',[[x] for x in randomlist])\n",
        "\n",
        "for c in s:\n",
        "  randomlist = []\n",
        "  #Generate 10 random numbers between 1 and 2861 in the row(26)\n",
        "  randomlist = random.sample(range(1, 2862), 10)\n",
        "  worksheet.update(f'{c}26',[[x] for x in randomlist])"
      ],
      "metadata": {
        "id": "Uq2Bn4hMIKm8"
      },
      "execution_count": null,
      "outputs": []
    }
  ]
}